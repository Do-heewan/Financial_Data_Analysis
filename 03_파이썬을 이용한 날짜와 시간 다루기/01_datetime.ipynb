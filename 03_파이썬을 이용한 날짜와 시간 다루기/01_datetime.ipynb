{
 "cells": [
  {
   "cell_type": "code",
   "execution_count": 1,
   "metadata": {},
   "outputs": [],
   "source": [
    "import datetime\n",
    "datetime_str = '2024-10-28 15:58:20'"
   ]
  },
  {
   "cell_type": "code",
   "execution_count": 3,
   "metadata": {},
   "outputs": [
    {
     "name": "stdout",
     "output_type": "stream",
     "text": [
      "2024-10-28 15:58:20\n"
     ]
    }
   ],
   "source": [
    "format = \"%Y-%m-%d %H:%M:%S\"\n",
    "datetime_dt = datetime.datetime.strptime(datetime_str, format) # String 타입으로 된 날짜 형식을 datetime으로 변환\n",
    "print(datetime_dt)"
   ]
  },
  {
   "cell_type": "code",
   "execution_count": 4,
   "metadata": {},
   "outputs": [
    {
     "name": "stdout",
     "output_type": "stream",
     "text": [
      "<class 'datetime.datetime'>\n"
     ]
    }
   ],
   "source": [
    "print(type(datetime_dt))"
   ]
  },
  {
   "cell_type": "code",
   "execution_count": 5,
   "metadata": {},
   "outputs": [
    {
     "name": "stdout",
     "output_type": "stream",
     "text": [
      "<class 'str'>\n",
      "2024-10-28 15:58:20\n"
     ]
    }
   ],
   "source": [
    "datetime_str = datetime_dt.strftime(\"%Y-%m-%d %H:%M:%S\") # datetime의 형식을 str타입으로 변환환\n",
    "\n",
    "print(type(datetime_str))\n",
    "print(datetime_str)"
   ]
  },
  {
   "cell_type": "code",
   "execution_count": 6,
   "metadata": {},
   "outputs": [
    {
     "name": "stdout",
     "output_type": "stream",
     "text": [
      "<class 'str'>\n",
      "2024-10-28 15\n"
     ]
    }
   ],
   "source": [
    "datetime_str = datetime_dt.strftime(\"%Y-%m-%d %H\")\n",
    "\n",
    "print(type(datetime_str))\n",
    "print(datetime_str)"
   ]
  }
 ],
 "metadata": {
  "kernelspec": {
   "display_name": "finance_data",
   "language": "python",
   "name": "python3"
  },
  "language_info": {
   "codemirror_mode": {
    "name": "ipython",
    "version": 3
   },
   "file_extension": ".py",
   "mimetype": "text/x-python",
   "name": "python",
   "nbconvert_exporter": "python",
   "pygments_lexer": "ipython3",
   "version": "3.7.12"
  }
 },
 "nbformat": 4,
 "nbformat_minor": 2
}
