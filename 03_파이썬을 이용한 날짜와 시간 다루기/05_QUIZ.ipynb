{
 "cells": [
  {
   "cell_type": "code",
   "execution_count": 3,
   "metadata": {},
   "outputs": [
    {
     "name": "stdout",
     "output_type": "stream",
     "text": [
      "2021-08-07 00:00:00\n"
     ]
    }
   ],
   "source": [
    "# Quiz 1\n",
    "\n",
    "import datetime\n",
    "\n",
    "datetime_str = '07-08-2021'\n",
    "format = \"%d-%m-%Y\"\n",
    "\n",
    "datetime_dt = datetime.datetime.strptime(datetime_str, format)\n",
    "\n",
    "print(datetime_dt)"
   ]
  },
  {
   "cell_type": "code",
   "execution_count": 5,
   "metadata": {},
   "outputs": [
    {
     "data": {
      "text/html": [
       "<div>\n",
       "<style scoped>\n",
       "    .dataframe tbody tr th:only-of-type {\n",
       "        vertical-align: middle;\n",
       "    }\n",
       "\n",
       "    .dataframe tbody tr th {\n",
       "        vertical-align: top;\n",
       "    }\n",
       "\n",
       "    .dataframe thead th {\n",
       "        text-align: right;\n",
       "    }\n",
       "</style>\n",
       "<table border=\"1\" class=\"dataframe\">\n",
       "  <thead>\n",
       "    <tr style=\"text-align: right;\">\n",
       "      <th></th>\n",
       "      <th>Open</th>\n",
       "      <th>High</th>\n",
       "      <th>Low</th>\n",
       "      <th>Close</th>\n",
       "      <th>Volume</th>\n",
       "      <th>Change</th>\n",
       "    </tr>\n",
       "    <tr>\n",
       "      <th>Date</th>\n",
       "      <th></th>\n",
       "      <th></th>\n",
       "      <th></th>\n",
       "      <th></th>\n",
       "      <th></th>\n",
       "      <th></th>\n",
       "    </tr>\n",
       "  </thead>\n",
       "  <tbody>\n",
       "  </tbody>\n",
       "</table>\n",
       "</div>"
      ],
      "text/plain": [
       "Empty DataFrame\n",
       "Columns: [Open, High, Low, Close, Volume, Change]\n",
       "Index: []"
      ]
     },
     "execution_count": 5,
     "metadata": {},
     "output_type": "execute_result"
    }
   ],
   "source": [
    "# Quiz 2\n",
    "\n",
    "import FinanceDataReader as fdr\n",
    "\n",
    "df = fdr.DataReader('214610', '20-01-08', '21-07-01')\n",
    "df"
   ]
  },
  {
   "cell_type": "code",
   "execution_count": null,
   "metadata": {},
   "outputs": [
    {
     "data": {
      "text/plain": [
       "array(['2021-03-01', '2021-03-02', '2021-03-03', '2021-03-04',\n",
       "       '2021-03-05', '2021-03-06', '2021-03-07', '2021-03-08',\n",
       "       '2021-03-09', '2021-03-10', '2021-03-11', '2021-03-12',\n",
       "       '2021-03-13', '2021-03-14', '2021-03-15', '2021-03-16',\n",
       "       '2021-03-17', '2021-03-18', '2021-03-19', '2021-03-20',\n",
       "       '2021-03-21', '2021-03-22', '2021-03-23', '2021-03-24',\n",
       "       '2021-03-25', '2021-03-26', '2021-03-27', '2021-03-28',\n",
       "       '2021-03-29', '2021-03-30', '2021-03-31', '2021-04-01',\n",
       "       '2021-04-02', '2021-04-03', '2021-04-04', '2021-04-05',\n",
       "       '2021-04-06', '2021-04-07', '2021-04-08', '2021-04-09',\n",
       "       '2021-04-10', '2021-04-11', '2021-04-12', '2021-04-13',\n",
       "       '2021-04-14', '2021-04-15', '2021-04-16', '2021-04-17',\n",
       "       '2021-04-18', '2021-04-19', '2021-04-20', '2021-04-21',\n",
       "       '2021-04-22', '2021-04-23', '2021-04-24', '2021-04-25',\n",
       "       '2021-04-26', '2021-04-27', '2021-04-28', '2021-04-29',\n",
       "       '2021-04-30', '2021-05-01', '2021-05-02', '2021-05-03',\n",
       "       '2021-05-04', '2021-05-05', '2021-05-06', '2021-05-07',\n",
       "       '2021-05-08', '2021-05-09', '2021-05-10', '2021-05-11',\n",
       "       '2021-05-12', '2021-05-13', '2021-05-14', '2021-05-15',\n",
       "       '2021-05-16', '2021-05-17', '2021-05-18', '2021-05-19',\n",
       "       '2021-05-20', '2021-05-21', '2021-05-22', '2021-05-23',\n",
       "       '2021-05-24', '2021-05-25', '2021-05-26', '2021-05-27',\n",
       "       '2021-05-28', '2021-05-29', '2021-05-30', '2021-05-31',\n",
       "       '2021-06-01', '2021-06-02', '2021-06-03', '2021-06-04',\n",
       "       '2021-06-05', '2021-06-06', '2021-06-07', '2021-06-08',\n",
       "       '2021-06-09', '2021-06-10', '2021-06-11', '2021-06-12',\n",
       "       '2021-06-13', '2021-06-14', '2021-06-15', '2021-06-16',\n",
       "       '2021-06-17', '2021-06-18', '2021-06-19', '2021-06-20',\n",
       "       '2021-06-21', '2021-06-22', '2021-06-23', '2021-06-24',\n",
       "       '2021-06-25', '2021-06-26', '2021-06-27', '2021-06-28',\n",
       "       '2021-06-29', '2021-06-30', '2021-07-01'], dtype='datetime64[D]')"
      ]
     },
     "execution_count": 8,
     "metadata": {},
     "output_type": "execute_result"
    }
   ],
   "source": [
    "# Quiz 3\n",
    "\n",
    "import numpy as np\n",
    "df = np.arange('2021-03-01', '2021-07-02', dtype = 'datetime64[D]')\n",
    "df"
   ]
  }
 ],
 "metadata": {
  "kernelspec": {
   "display_name": "finance_data",
   "language": "python",
   "name": "python3"
  },
  "language_info": {
   "codemirror_mode": {
    "name": "ipython",
    "version": 3
   },
   "file_extension": ".py",
   "mimetype": "text/x-python",
   "name": "python",
   "nbconvert_exporter": "python",
   "pygments_lexer": "ipython3",
   "version": "3.7.12"
  }
 },
 "nbformat": 4,
 "nbformat_minor": 2
}
