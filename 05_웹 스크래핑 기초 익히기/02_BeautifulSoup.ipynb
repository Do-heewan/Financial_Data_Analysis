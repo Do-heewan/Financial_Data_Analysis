{
 "cells": [
  {
   "cell_type": "code",
   "execution_count": 1,
   "metadata": {},
   "outputs": [
    {
     "name": "stdout",
     "output_type": "stream",
     "text": [
      "Requirement already satisfied: beautifulSoup4 in c:\\users\\noh\\anaconda3\\envs\\finance_data\\lib\\site-packages (4.12.3)\n",
      "Requirement already satisfied: soupsieve>1.2 in c:\\users\\noh\\anaconda3\\envs\\finance_data\\lib\\site-packages (from beautifulSoup4) (2.4.1)\n",
      "Note: you may need to restart the kernel to use updated packages.\n"
     ]
    }
   ],
   "source": [
    "pip install beautifulSoup4"
   ]
  },
  {
   "cell_type": "code",
   "execution_count": 4,
   "metadata": {},
   "outputs": [],
   "source": [
    "from bs4 import BeautifulSoup"
   ]
  },
  {
   "cell_type": "code",
   "execution_count": 5,
   "metadata": {},
   "outputs": [],
   "source": [
    "# HTML 문서를 문자열 html로 저장\n",
    "html = '''\n",
    "<html> \n",
    "    <head> \n",
    "    </head> \n",
    "    <body> \n",
    "        <h1> 장바구니\n",
    "            <p id='clothes' class='name' title='라운드티'> 라운드티\n",
    "                <span class = 'number'> 25 </span> \n",
    "                <span class = 'price'> 29000 </span> \n",
    "                <span class = 'menu'> 의류</span> \n",
    "                <a href = 'http://www.naver.com'> 바로가기 </a> \n",
    "            </p> \n",
    "            <p id='watch' class='name' title='시계'> 시계\n",
    "                <span class = 'number'> 28 </span>\n",
    "                <span class = 'price'> 32000 </span> \n",
    "                <span class = 'menu'> 악세서리 </span> \n",
    "                <a href = 'http://www.facebook.com'> 바로가기 </a> \n",
    "            </p> \n",
    "        </h1> \n",
    "    </body> \n",
    "</html>\n",
    "'''"
   ]
  },
  {
   "cell_type": "code",
   "execution_count": 7,
   "metadata": {},
   "outputs": [],
   "source": [
    "# BeautifulSoup 인스턴스 생성. 두번째 매개변수는 분석할 분석기(parser)의 종류.\n",
    "soup = BeautifulSoup(html, 'html.parser')"
   ]
  },
  {
   "cell_type": "code",
   "execution_count": 8,
   "metadata": {},
   "outputs": [
    {
     "name": "stdout",
     "output_type": "stream",
     "text": [
      "[<body>\n",
      "<h1> 장바구니\n",
      "            <p class=\"name\" id=\"clothes\" title=\"라운드티\"> 라운드티\n",
      "                <span class=\"number\"> 25 </span>\n",
      "<span class=\"price\"> 29000 </span>\n",
      "<span class=\"menu\"> 의류</span>\n",
      "<a href=\"http://www.naver.com\"> 바로가기 </a>\n",
      "</p>\n",
      "<p class=\"name\" id=\"watch\" title=\"시계\"> 시계\n",
      "                <span class=\"number\"> 28 </span>\n",
      "<span class=\"price\"> 32000 </span>\n",
      "<span class=\"menu\"> 악세서리 </span>\n",
      "<a href=\"http://www.facebook.com\"> 바로가기 </a>\n",
      "</p>\n",
      "</h1>\n",
      "</body>]\n"
     ]
    }
   ],
   "source": [
    "print(soup.select('body'))"
   ]
  },
  {
   "cell_type": "code",
   "execution_count": 9,
   "metadata": {},
   "outputs": [
    {
     "name": "stdout",
     "output_type": "stream",
     "text": [
      "[<span class=\"menu\"> 의류</span>, <span class=\"menu\"> 악세서리 </span>]\n"
     ]
    }
   ],
   "source": [
    "print(soup.select('h1 .name .menu'))"
   ]
  },
  {
   "cell_type": "code",
   "execution_count": 10,
   "metadata": {},
   "outputs": [
    {
     "name": "stdout",
     "output_type": "stream",
     "text": [
      "[]\n"
     ]
    }
   ],
   "source": [
    "print(soup.select('html > h1'))"
   ]
  }
 ],
 "metadata": {
  "kernelspec": {
   "display_name": "finance_data",
   "language": "python",
   "name": "python3"
  },
  "language_info": {
   "codemirror_mode": {
    "name": "ipython",
    "version": 3
   },
   "file_extension": ".py",
   "mimetype": "text/x-python",
   "name": "python",
   "nbconvert_exporter": "python",
   "pygments_lexer": "ipython3",
   "version": "3.7.12"
  }
 },
 "nbformat": 4,
 "nbformat_minor": 2
}
